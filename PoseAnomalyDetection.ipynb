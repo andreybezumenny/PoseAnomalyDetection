{
 "cells": [
  {
   "cell_type": "markdown",
   "source": [
    "# Pose anomaly detection\n",
    "\n",
    "## Install requirements\n",
    "``` pip install -r requirements.txt ```\n",
    "\n",
    "## Convert videos to frames"
   ],
   "metadata": {
    "collapsed": false
   }
  },
  {
   "cell_type": "code",
   "execution_count": null,
   "outputs": [],
   "source": [
    "import os\n",
    "\n",
    "import cv2\n",
    "# path to video\n",
    "vc = cv2.VideoCapture(str('data/videos/Fighting/Fighting032_x264.mp4'))\n",
    "c = 1\n",
    "# path to frames\n",
    "save_path_dir = 'data/videos/Fighting/Fighting032_x264'\n",
    "os.system(f'mkdir {save_path_dir}')\n",
    "if vc.isOpened():\n",
    "    rval, frame = vc.read()\n",
    "else:\n",
    "    rval = False\n",
    "while rval:\n",
    "    try:\n",
    "        rval, frame = vc.read()\n",
    "        cv2.imwrite(f'{save_path_dir}/frame-%04d.jpg' % c, frame)\n",
    "        c = c + 1\n",
    "        cv2.waitKey(1)\n",
    "    except Exception as e:\n",
    "        print(e)\n",
    "vc.release()"
   ],
   "metadata": {
    "collapsed": false,
    "pycharm": {
     "name": "#%%\n"
    }
   }
  },
  {
   "cell_type": "markdown",
   "source": [
    "##  Install AlphaPose \n",
    "### AlphaPose is an accurate multi-person pose estimator\n",
    "By link: https://github.com/Amanbhandula/AlphaPose"
   ],
   "metadata": {
    "collapsed": false,
    "pycharm": {
     "name": "#%% md\n"
    }
   }
  },
  {
   "cell_type": "markdown",
   "source": [
    "## Run AlpaPose \n",
    "### pose tracking \n",
    "AlphaPose/demo.py\n",
    "\n",
    "```python3 demo.py --indir ${img_directory} --outdir ${out_dir} ```\n",
    "\n",
    "This will generate json file \n",
    "Look at : AlphaPose/doc/output.md"
   ],
   "metadata": {
    "collapsed": false,
    "pycharm": {
     "name": "#%% md\n"
    }
   }
  },
  {
   "cell_type": "markdown",
   "source": [
    "### Import dependencies"
   ],
   "metadata": {
    "collapsed": false,
    "pycharm": {
     "name": "#%% md\n",
     "is_executing": false
    }
   }
  },
  {
   "cell_type": "code",
   "execution_count": 7,
   "outputs": [],
   "source": [
    "import matplotlib as mpl\n",
    "import matplotlib.pyplot as plt\n",
    "from sklearn.ensemble import IsolationForest\n",
    "from pathlib import Path\n",
    "import numpy as np \n",
    "import pandas as pd\n",
    "pd.options.mode.chained_assignment = None"
   ],
   "metadata": {
    "collapsed": false,
    "pycharm": {
     "name": "#%%\n",
     "is_executing": false
    }
   }
  },
  {
   "cell_type": "markdown",
   "source": [
    "### Convert json to csv using pandas DataFrame and add person id column "
   ],
   "metadata": {
    "collapsed": false,
    "pycharm": {
     "name": "#%% md\n"
    }
   }
  },
  {
   "cell_type": "code",
   "execution_count": 28,
   "outputs": [
    {
     "data": {
      "text/plain": "               0           1         2           3          4         5  \\\n1035  297.306702   99.996819  0.102870  298.551971  98.004387  0.093190   \n2200  298.104706  100.636337  0.180640  299.516968  98.988686  0.169255   \n2434  297.915070  101.162857  0.158724  298.619385  99.049927  0.129762   \n1972  296.217621  100.349976  0.093805  297.727600  98.588348  0.087348   \n2092  295.811157  100.567238  0.149141  297.832336  98.798691  0.126491   \n\n               6          7         8           9  ...        44          45  \\\n1035  296.061401  98.253441  0.078872  302.536835  ...  0.002012  292.823700   \n2200  296.927795  99.224060  0.183657  302.812256  ...  0.001906  296.457031   \n2434  296.271667  99.284698  0.141153  302.845245  ...  0.001305  292.984894   \n1972  294.959320  98.840012  0.062892  302.509155  ...  0.001722  293.197693   \n2092  294.547882  98.798691  0.092573  302.127380  ...  0.001782  292.779358   \n\n              46        47          48          49        50  image_id  \\\n1035  117.928741  0.012129  293.072754  116.185364  0.082195         9   \n2200   97.576408  0.004590  293.397125  115.229836  0.053618        11   \n2434  116.892479  0.006556  292.984894  116.188164  0.015257        12   \n1972  117.211250  0.004465  293.197693  116.204605  0.064510        14   \n2092  118.252716  0.004548  292.779358  115.978867  0.045881        15   \n\n         score  person  \n1035  0.597755       0  \n2200  0.631115       0  \n2434  0.736130       0  \n1972  0.739572       0  \n2092  0.687226       0  \n\n[5 rows x 54 columns]",
      "text/html": "<div>\n<style scoped>\n    .dataframe tbody tr th:only-of-type {\n        vertical-align: middle;\n    }\n\n    .dataframe tbody tr th {\n        vertical-align: top;\n    }\n\n    .dataframe thead th {\n        text-align: right;\n    }\n</style>\n<table border=\"1\" class=\"dataframe\">\n  <thead>\n    <tr style=\"text-align: right;\">\n      <th></th>\n      <th>0</th>\n      <th>1</th>\n      <th>2</th>\n      <th>3</th>\n      <th>4</th>\n      <th>5</th>\n      <th>6</th>\n      <th>7</th>\n      <th>8</th>\n      <th>9</th>\n      <th>...</th>\n      <th>44</th>\n      <th>45</th>\n      <th>46</th>\n      <th>47</th>\n      <th>48</th>\n      <th>49</th>\n      <th>50</th>\n      <th>image_id</th>\n      <th>score</th>\n      <th>person</th>\n    </tr>\n  </thead>\n  <tbody>\n    <tr>\n      <th>1035</th>\n      <td>297.306702</td>\n      <td>99.996819</td>\n      <td>0.102870</td>\n      <td>298.551971</td>\n      <td>98.004387</td>\n      <td>0.093190</td>\n      <td>296.061401</td>\n      <td>98.253441</td>\n      <td>0.078872</td>\n      <td>302.536835</td>\n      <td>...</td>\n      <td>0.002012</td>\n      <td>292.823700</td>\n      <td>117.928741</td>\n      <td>0.012129</td>\n      <td>293.072754</td>\n      <td>116.185364</td>\n      <td>0.082195</td>\n      <td>9</td>\n      <td>0.597755</td>\n      <td>0</td>\n    </tr>\n    <tr>\n      <th>2200</th>\n      <td>298.104706</td>\n      <td>100.636337</td>\n      <td>0.180640</td>\n      <td>299.516968</td>\n      <td>98.988686</td>\n      <td>0.169255</td>\n      <td>296.927795</td>\n      <td>99.224060</td>\n      <td>0.183657</td>\n      <td>302.812256</td>\n      <td>...</td>\n      <td>0.001906</td>\n      <td>296.457031</td>\n      <td>97.576408</td>\n      <td>0.004590</td>\n      <td>293.397125</td>\n      <td>115.229836</td>\n      <td>0.053618</td>\n      <td>11</td>\n      <td>0.631115</td>\n      <td>0</td>\n    </tr>\n    <tr>\n      <th>2434</th>\n      <td>297.915070</td>\n      <td>101.162857</td>\n      <td>0.158724</td>\n      <td>298.619385</td>\n      <td>99.049927</td>\n      <td>0.129762</td>\n      <td>296.271667</td>\n      <td>99.284698</td>\n      <td>0.141153</td>\n      <td>302.845245</td>\n      <td>...</td>\n      <td>0.001305</td>\n      <td>292.984894</td>\n      <td>116.892479</td>\n      <td>0.006556</td>\n      <td>292.984894</td>\n      <td>116.188164</td>\n      <td>0.015257</td>\n      <td>12</td>\n      <td>0.736130</td>\n      <td>0</td>\n    </tr>\n    <tr>\n      <th>1972</th>\n      <td>296.217621</td>\n      <td>100.349976</td>\n      <td>0.093805</td>\n      <td>297.727600</td>\n      <td>98.588348</td>\n      <td>0.087348</td>\n      <td>294.959320</td>\n      <td>98.840012</td>\n      <td>0.062892</td>\n      <td>302.509155</td>\n      <td>...</td>\n      <td>0.001722</td>\n      <td>293.197693</td>\n      <td>117.211250</td>\n      <td>0.004465</td>\n      <td>293.197693</td>\n      <td>116.204605</td>\n      <td>0.064510</td>\n      <td>14</td>\n      <td>0.739572</td>\n      <td>0</td>\n    </tr>\n    <tr>\n      <th>2092</th>\n      <td>295.811157</td>\n      <td>100.567238</td>\n      <td>0.149141</td>\n      <td>297.832336</td>\n      <td>98.798691</td>\n      <td>0.126491</td>\n      <td>294.547882</td>\n      <td>98.798691</td>\n      <td>0.092573</td>\n      <td>302.127380</td>\n      <td>...</td>\n      <td>0.001782</td>\n      <td>292.779358</td>\n      <td>118.252716</td>\n      <td>0.004548</td>\n      <td>292.779358</td>\n      <td>115.978867</td>\n      <td>0.045881</td>\n      <td>15</td>\n      <td>0.687226</td>\n      <td>0</td>\n    </tr>\n  </tbody>\n</table>\n<p>5 rows × 54 columns</p>\n</div>"
     },
     "metadata": {},
     "output_type": "execute_result",
     "execution_count": 28
    }
   ],
   "source": [
    "df = pd.read_json('data/videos/Fighting/Fighting032_x264/alphapose-results.json')\n",
    "#Get int id from  image_id column\n",
    "df.image_id = df.image_id.apply(lambda x: x[6:-4])\n",
    "df.image_id = df.image_id.astype(int)\n",
    "#Get key points as numpy array \n",
    "key_points = np.array(df.keypoints.to_list())\n",
    "df2 = pd.DataFrame(key_points)\n",
    "df2['image_id'] = df.image_id\n",
    "df2['score'] = df.score\n",
    "df2 = df2.sort_values(by = ['image_id'])\n",
    "#Get person id and add in DataFrame\n",
    "output_df = pd.DataFrame()\n",
    "for im in df2.image_id.unique():\n",
    "    image_df = df2[df2.image_id == im]\n",
    "    person_list = [i for i in range(len(image_df))]\n",
    "    image_df['person'] = person_list\n",
    "    output_df = output_df.append(image_df)\n",
    "output_df.to_csv('data/features/Fighting032_x264.csv', index=False)\n",
    "output_df.head(5)"
   ],
   "metadata": {
    "collapsed": false,
    "pycharm": {
     "name": "#%%\n",
     "is_executing": false
    }
   }
  },
  {
   "cell_type": "markdown",
   "source": [
    "## Processing DataFrame and get outliers"
   ],
   "metadata": {
    "collapsed": false
   }
  },
  {
   "cell_type": "markdown",
   "source": [
    "### Read csv data which must include additional column 'person' "
   ],
   "metadata": {
    "collapsed": false,
    "pycharm": {
     "name": "#%% md\n"
    }
   }
  },
  {
   "cell_type": "code",
   "execution_count": 43,
   "outputs": [
    {
     "data": {
      "text/plain": "            0           1         2           3          4         5  \\\n0  297.306702   99.996819  0.102870  298.551971  98.004387  0.093190   \n1  298.104706  100.636337  0.180640  299.516968  98.988686  0.169255   \n2  297.915070  101.162857  0.158724  298.619385  99.049927  0.129762   \n3  296.217621  100.349976  0.093805  297.727600  98.588348  0.087348   \n4  295.811157  100.567238  0.149141  297.832336  98.798691  0.126491   \n\n            6          7         8           9  ...        44          45  \\\n0  296.061401  98.253441  0.078872  302.536835  ...  0.002012  292.823700   \n1  296.927795  99.224060  0.183657  302.812256  ...  0.001906  296.457031   \n2  296.271667  99.284698  0.141153  302.845245  ...  0.001305  292.984894   \n3  294.959320  98.840012  0.062892  302.509155  ...  0.001722  293.197693   \n4  294.547882  98.798691  0.092573  302.127380  ...  0.001782  292.779358   \n\n           46        47          48          49        50  image_id     score  \\\n0  117.928741  0.012129  293.072754  116.185364  0.082195         9  0.597755   \n1   97.576408  0.004590  293.397125  115.229836  0.053618        11  0.631115   \n2  116.892479  0.006556  292.984894  116.188164  0.015257        12  0.736130   \n3  117.211250  0.004465  293.197693  116.204605  0.064510        14  0.739572   \n4  118.252716  0.004548  292.779358  115.978867  0.045881        15  0.687226   \n\n   person  \n0       0  \n1       0  \n2       0  \n3       0  \n4       0  \n\n[5 rows x 54 columns]",
      "text/html": "<div>\n<style scoped>\n    .dataframe tbody tr th:only-of-type {\n        vertical-align: middle;\n    }\n\n    .dataframe tbody tr th {\n        vertical-align: top;\n    }\n\n    .dataframe thead th {\n        text-align: right;\n    }\n</style>\n<table border=\"1\" class=\"dataframe\">\n  <thead>\n    <tr style=\"text-align: right;\">\n      <th></th>\n      <th>0</th>\n      <th>1</th>\n      <th>2</th>\n      <th>3</th>\n      <th>4</th>\n      <th>5</th>\n      <th>6</th>\n      <th>7</th>\n      <th>8</th>\n      <th>9</th>\n      <th>...</th>\n      <th>44</th>\n      <th>45</th>\n      <th>46</th>\n      <th>47</th>\n      <th>48</th>\n      <th>49</th>\n      <th>50</th>\n      <th>image_id</th>\n      <th>score</th>\n      <th>person</th>\n    </tr>\n  </thead>\n  <tbody>\n    <tr>\n      <th>0</th>\n      <td>297.306702</td>\n      <td>99.996819</td>\n      <td>0.102870</td>\n      <td>298.551971</td>\n      <td>98.004387</td>\n      <td>0.093190</td>\n      <td>296.061401</td>\n      <td>98.253441</td>\n      <td>0.078872</td>\n      <td>302.536835</td>\n      <td>...</td>\n      <td>0.002012</td>\n      <td>292.823700</td>\n      <td>117.928741</td>\n      <td>0.012129</td>\n      <td>293.072754</td>\n      <td>116.185364</td>\n      <td>0.082195</td>\n      <td>9</td>\n      <td>0.597755</td>\n      <td>0</td>\n    </tr>\n    <tr>\n      <th>1</th>\n      <td>298.104706</td>\n      <td>100.636337</td>\n      <td>0.180640</td>\n      <td>299.516968</td>\n      <td>98.988686</td>\n      <td>0.169255</td>\n      <td>296.927795</td>\n      <td>99.224060</td>\n      <td>0.183657</td>\n      <td>302.812256</td>\n      <td>...</td>\n      <td>0.001906</td>\n      <td>296.457031</td>\n      <td>97.576408</td>\n      <td>0.004590</td>\n      <td>293.397125</td>\n      <td>115.229836</td>\n      <td>0.053618</td>\n      <td>11</td>\n      <td>0.631115</td>\n      <td>0</td>\n    </tr>\n    <tr>\n      <th>2</th>\n      <td>297.915070</td>\n      <td>101.162857</td>\n      <td>0.158724</td>\n      <td>298.619385</td>\n      <td>99.049927</td>\n      <td>0.129762</td>\n      <td>296.271667</td>\n      <td>99.284698</td>\n      <td>0.141153</td>\n      <td>302.845245</td>\n      <td>...</td>\n      <td>0.001305</td>\n      <td>292.984894</td>\n      <td>116.892479</td>\n      <td>0.006556</td>\n      <td>292.984894</td>\n      <td>116.188164</td>\n      <td>0.015257</td>\n      <td>12</td>\n      <td>0.736130</td>\n      <td>0</td>\n    </tr>\n    <tr>\n      <th>3</th>\n      <td>296.217621</td>\n      <td>100.349976</td>\n      <td>0.093805</td>\n      <td>297.727600</td>\n      <td>98.588348</td>\n      <td>0.087348</td>\n      <td>294.959320</td>\n      <td>98.840012</td>\n      <td>0.062892</td>\n      <td>302.509155</td>\n      <td>...</td>\n      <td>0.001722</td>\n      <td>293.197693</td>\n      <td>117.211250</td>\n      <td>0.004465</td>\n      <td>293.197693</td>\n      <td>116.204605</td>\n      <td>0.064510</td>\n      <td>14</td>\n      <td>0.739572</td>\n      <td>0</td>\n    </tr>\n    <tr>\n      <th>4</th>\n      <td>295.811157</td>\n      <td>100.567238</td>\n      <td>0.149141</td>\n      <td>297.832336</td>\n      <td>98.798691</td>\n      <td>0.126491</td>\n      <td>294.547882</td>\n      <td>98.798691</td>\n      <td>0.092573</td>\n      <td>302.127380</td>\n      <td>...</td>\n      <td>0.001782</td>\n      <td>292.779358</td>\n      <td>118.252716</td>\n      <td>0.004548</td>\n      <td>292.779358</td>\n      <td>115.978867</td>\n      <td>0.045881</td>\n      <td>15</td>\n      <td>0.687226</td>\n      <td>0</td>\n    </tr>\n  </tbody>\n</table>\n<p>5 rows × 54 columns</p>\n</div>"
     },
     "metadata": {},
     "output_type": "execute_result",
     "execution_count": 43
    }
   ],
   "source": [
    "data_folder = Path(\"data/features\")\n",
    "df = pd.read_csv(data_folder / 'Fighting032_x264.csv')\n",
    "df.head(5)"
   ],
   "metadata": {
    "collapsed": false,
    "pycharm": {
     "name": "#%%\n",
     "is_executing": false
    }
   }
  },
  {
   "cell_type": "markdown",
   "source": [
    "1. `keypoints` [0,1,...,50]  contains the body part locations and detection confidence formatted as `x1 - 0,y1 - 1,c1 - 3,...`. `c` is the confidence score in the range [0,1].\n",
    "2. `score` is the confidence score for the whole person, computed by our parametric pose NMS.\n",
    "3. `image_id` is number of video frame.\n",
    "4. `person` is person id in frame."
   ],
   "metadata": {
    "collapsed": false
   }
  },
  {
   "cell_type": "markdown",
   "source": [
    "## Drop high correlation columns\n",
    "\n",
    "The columns which high correlated with each other have no sense for model.\n",
    "\n",
    "So we as optional can drop it using corr_val threshold"
   ],
   "metadata": {
    "collapsed": false
   }
  },
  {
   "cell_type": "code",
   "execution_count": 44,
   "outputs": [
    {
     "name": "stdout",
     "text": [
      "3 | 0 | 0.99\n6 | 0 | 0.99\n6 | 3 | 0.99\n9 | 0 | 0.99\n9 | 3 | 0.99\n12 | 0 | 0.99\n12 | 6 | 0.99\n15 | 9 | 0.99\n18 | 12 | 1.0\n21 | 15 | 0.99\n24 | 18 | 0.99\n33 | 15 | 0.99\n36 | 12 | 0.99\n36 | 18 | 0.99\n"
     ],
     "output_type": "stream"
    },
    {
     "data": {
      "text/plain": "            0           1         2          4         5          7         8  \\\n0  297.306702   99.996819  0.102870  98.004387  0.093190  98.253441  0.078872   \n1  298.104706  100.636337  0.180640  98.988686  0.169255  99.224060  0.183657   \n2  297.915070  101.162857  0.158724  99.049927  0.129762  99.284698  0.141153   \n3  296.217621  100.349976  0.093805  98.588348  0.087348  98.840012  0.062892   \n4  295.811157  100.567238  0.149141  98.798691  0.126491  98.798691  0.092573   \n\n          10        11          13  ...        44          45          46  \\\n0  98.751549  0.194407   99.249657  ...  0.002012  292.823700  117.928741   \n1  98.753304  0.173380   99.930199  ...  0.001906  296.457031   97.576408   \n2  98.815155  0.181443  100.458549  ...  0.001305  292.984894  116.892479   \n3  98.840012  0.174230   99.846649  ...  0.001722  293.197693  117.211250   \n4  99.051338  0.252890   99.556633  ...  0.001782  292.779358  118.252716   \n\n         47          48          49        50     score  image_id  person  \n0  0.012129  293.072754  116.185364  0.082195  0.597755         9       0  \n1  0.004590  293.397125  115.229836  0.053618  0.631115        11       0  \n2  0.006556  292.984894  116.188164  0.015257  0.736130        12       0  \n3  0.004465  293.197693  116.204605  0.064510  0.739572        14       0  \n4  0.004548  292.779358  115.978867  0.045881  0.687226        15       0  \n\n[5 rows x 44 columns]",
      "text/html": "<div>\n<style scoped>\n    .dataframe tbody tr th:only-of-type {\n        vertical-align: middle;\n    }\n\n    .dataframe tbody tr th {\n        vertical-align: top;\n    }\n\n    .dataframe thead th {\n        text-align: right;\n    }\n</style>\n<table border=\"1\" class=\"dataframe\">\n  <thead>\n    <tr style=\"text-align: right;\">\n      <th></th>\n      <th>0</th>\n      <th>1</th>\n      <th>2</th>\n      <th>4</th>\n      <th>5</th>\n      <th>7</th>\n      <th>8</th>\n      <th>10</th>\n      <th>11</th>\n      <th>13</th>\n      <th>...</th>\n      <th>44</th>\n      <th>45</th>\n      <th>46</th>\n      <th>47</th>\n      <th>48</th>\n      <th>49</th>\n      <th>50</th>\n      <th>score</th>\n      <th>image_id</th>\n      <th>person</th>\n    </tr>\n  </thead>\n  <tbody>\n    <tr>\n      <th>0</th>\n      <td>297.306702</td>\n      <td>99.996819</td>\n      <td>0.102870</td>\n      <td>98.004387</td>\n      <td>0.093190</td>\n      <td>98.253441</td>\n      <td>0.078872</td>\n      <td>98.751549</td>\n      <td>0.194407</td>\n      <td>99.249657</td>\n      <td>...</td>\n      <td>0.002012</td>\n      <td>292.823700</td>\n      <td>117.928741</td>\n      <td>0.012129</td>\n      <td>293.072754</td>\n      <td>116.185364</td>\n      <td>0.082195</td>\n      <td>0.597755</td>\n      <td>9</td>\n      <td>0</td>\n    </tr>\n    <tr>\n      <th>1</th>\n      <td>298.104706</td>\n      <td>100.636337</td>\n      <td>0.180640</td>\n      <td>98.988686</td>\n      <td>0.169255</td>\n      <td>99.224060</td>\n      <td>0.183657</td>\n      <td>98.753304</td>\n      <td>0.173380</td>\n      <td>99.930199</td>\n      <td>...</td>\n      <td>0.001906</td>\n      <td>296.457031</td>\n      <td>97.576408</td>\n      <td>0.004590</td>\n      <td>293.397125</td>\n      <td>115.229836</td>\n      <td>0.053618</td>\n      <td>0.631115</td>\n      <td>11</td>\n      <td>0</td>\n    </tr>\n    <tr>\n      <th>2</th>\n      <td>297.915070</td>\n      <td>101.162857</td>\n      <td>0.158724</td>\n      <td>99.049927</td>\n      <td>0.129762</td>\n      <td>99.284698</td>\n      <td>0.141153</td>\n      <td>98.815155</td>\n      <td>0.181443</td>\n      <td>100.458549</td>\n      <td>...</td>\n      <td>0.001305</td>\n      <td>292.984894</td>\n      <td>116.892479</td>\n      <td>0.006556</td>\n      <td>292.984894</td>\n      <td>116.188164</td>\n      <td>0.015257</td>\n      <td>0.736130</td>\n      <td>12</td>\n      <td>0</td>\n    </tr>\n    <tr>\n      <th>3</th>\n      <td>296.217621</td>\n      <td>100.349976</td>\n      <td>0.093805</td>\n      <td>98.588348</td>\n      <td>0.087348</td>\n      <td>98.840012</td>\n      <td>0.062892</td>\n      <td>98.840012</td>\n      <td>0.174230</td>\n      <td>99.846649</td>\n      <td>...</td>\n      <td>0.001722</td>\n      <td>293.197693</td>\n      <td>117.211250</td>\n      <td>0.004465</td>\n      <td>293.197693</td>\n      <td>116.204605</td>\n      <td>0.064510</td>\n      <td>0.739572</td>\n      <td>14</td>\n      <td>0</td>\n    </tr>\n    <tr>\n      <th>4</th>\n      <td>295.811157</td>\n      <td>100.567238</td>\n      <td>0.149141</td>\n      <td>98.798691</td>\n      <td>0.126491</td>\n      <td>98.798691</td>\n      <td>0.092573</td>\n      <td>99.051338</td>\n      <td>0.252890</td>\n      <td>99.556633</td>\n      <td>...</td>\n      <td>0.001782</td>\n      <td>292.779358</td>\n      <td>118.252716</td>\n      <td>0.004548</td>\n      <td>292.779358</td>\n      <td>115.978867</td>\n      <td>0.045881</td>\n      <td>0.687226</td>\n      <td>15</td>\n      <td>0</td>\n    </tr>\n  </tbody>\n</table>\n<p>5 rows × 44 columns</p>\n</div>"
     },
     "metadata": {},
     "output_type": "execute_result",
     "execution_count": 44
    }
   ],
   "source": [
    "def corr_df(df, corr_val):\n",
    "    '''\n",
    "    Obj: Drops features that are strongly correlated to other features.\n",
    "          This lowers model complexity, and aids in generalizing the model.\n",
    "    Inputs:\n",
    "          df: features df\n",
    "          corr_val: Columns are dropped relative to the corr_val input (e.g. 0.8)\n",
    "    Output: df that only includes uncorrelated features\n",
    "    '''\n",
    "    categorical_subset = df[['image_id', 'person']]\n",
    "    df = df.drop(columns=['image_id', 'person'], axis=1)\n",
    "    # Creates Correlation Matrix and Instantiates\n",
    "    corr_matrix = df.corr()\n",
    "    iters = range(len(corr_matrix.columns) - 1)\n",
    "    drop_cols = []\n",
    "\n",
    "    # Iterates through Correlation Matrix Table to find correlated columns\n",
    "    for i in iters:\n",
    "        for j in range(i):\n",
    "            item = corr_matrix.iloc[j:(j + 1), (i + 1):(i + 2)]\n",
    "            col = item.columns\n",
    "            row = item.index\n",
    "            val = item.values\n",
    "            if val >= corr_val:\n",
    "                # Prints the correlated feature set and the corr val\n",
    "                print(col.values[0], \"|\", row.values[0], \"|\", round(val[0][0], 2))\n",
    "                drop_cols.append(i)\n",
    "\n",
    "    drops = sorted(set(drop_cols))[::-1]\n",
    "\n",
    "    # Drops the correlated columns\n",
    "    for i in drops:\n",
    "        col = df.iloc[:, (i + 1):(i + 2)].columns.values\n",
    "        df = df.drop(columns=col, axis=1)\n",
    "\n",
    "    df = pd.concat([df, categorical_subset], axis=1)\n",
    "    return df\n",
    "\n",
    "corr_val = 0.99\n",
    "df = corr_df(df, corr_val)\n",
    "df.head(5)"
   ],
   "metadata": {
    "collapsed": false,
    "pycharm": {
     "name": "#%%\n",
     "is_executing": false
    }
   }
  },
  {
   "cell_type": "markdown",
   "source": [
    "### Aggregate n-rows to one row-vector. \n",
    "Which helps us to avoid local anomalies. \n",
    "\n",
    "For example, an error in the operation of the AlphaPose algorithm or a jittering frame."
   ],
   "metadata": {
    "collapsed": false,
    "pycharm": {
     "name": "#%% md\n",
     "is_executing": false
    }
   }
  },
  {
   "cell_type": "code",
   "execution_count": 45,
   "outputs": [
    {
     "data": {
      "text/plain": "            0           1         2          3         4          5         6  \\\n0  297.306702   99.996819  0.102870  98.004387  0.093190  98.253441  0.078872   \n1  298.104706  100.636337  0.180640  98.988686  0.169255  99.224060  0.183657   \n2  297.915070  101.162857  0.158724  99.049927  0.129762  99.284698  0.141153   \n3  296.217621  100.349976  0.093805  98.588348  0.087348  98.840012  0.062892   \n4  295.811157  100.567238  0.149141  98.798691  0.126491  98.798691  0.092573   \n\n           7         8           9  ...       454         455         456  \\\n0  98.751549  0.194407   99.249657  ...  0.001176  185.300369   99.091003   \n1  98.753304  0.173380   99.930199  ...  0.002514  181.755005   97.597069   \n2  98.815155  0.181443  100.458549  ...  0.002423  186.654404  100.069527   \n3  98.840012  0.174230   99.846649  ...  0.002402  186.641663  100.197792   \n4  99.051338  0.252890   99.556633  ...  0.005710  187.608688   98.852150   \n\n        457         458         459       460       461  image_id  person  \n0  0.006208  177.347198  106.698387  0.003270  0.793295         9       0  \n1  0.004451  177.704300  106.711143  0.004430  1.079979        11       0  \n2  0.004002  188.025848   99.040939  0.003124  0.941101        12       0  \n3  0.004022  188.015778   99.167206  0.003137  0.942489        14       0  \n4  0.003151  178.074585  106.683739  0.003489  0.999742        15       0  \n\n[5 rows x 464 columns]",
      "text/html": "<div>\n<style scoped>\n    .dataframe tbody tr th:only-of-type {\n        vertical-align: middle;\n    }\n\n    .dataframe tbody tr th {\n        vertical-align: top;\n    }\n\n    .dataframe thead th {\n        text-align: right;\n    }\n</style>\n<table border=\"1\" class=\"dataframe\">\n  <thead>\n    <tr style=\"text-align: right;\">\n      <th></th>\n      <th>0</th>\n      <th>1</th>\n      <th>2</th>\n      <th>3</th>\n      <th>4</th>\n      <th>5</th>\n      <th>6</th>\n      <th>7</th>\n      <th>8</th>\n      <th>9</th>\n      <th>...</th>\n      <th>454</th>\n      <th>455</th>\n      <th>456</th>\n      <th>457</th>\n      <th>458</th>\n      <th>459</th>\n      <th>460</th>\n      <th>461</th>\n      <th>image_id</th>\n      <th>person</th>\n    </tr>\n  </thead>\n  <tbody>\n    <tr>\n      <th>0</th>\n      <td>297.306702</td>\n      <td>99.996819</td>\n      <td>0.102870</td>\n      <td>98.004387</td>\n      <td>0.093190</td>\n      <td>98.253441</td>\n      <td>0.078872</td>\n      <td>98.751549</td>\n      <td>0.194407</td>\n      <td>99.249657</td>\n      <td>...</td>\n      <td>0.001176</td>\n      <td>185.300369</td>\n      <td>99.091003</td>\n      <td>0.006208</td>\n      <td>177.347198</td>\n      <td>106.698387</td>\n      <td>0.003270</td>\n      <td>0.793295</td>\n      <td>9</td>\n      <td>0</td>\n    </tr>\n    <tr>\n      <th>1</th>\n      <td>298.104706</td>\n      <td>100.636337</td>\n      <td>0.180640</td>\n      <td>98.988686</td>\n      <td>0.169255</td>\n      <td>99.224060</td>\n      <td>0.183657</td>\n      <td>98.753304</td>\n      <td>0.173380</td>\n      <td>99.930199</td>\n      <td>...</td>\n      <td>0.002514</td>\n      <td>181.755005</td>\n      <td>97.597069</td>\n      <td>0.004451</td>\n      <td>177.704300</td>\n      <td>106.711143</td>\n      <td>0.004430</td>\n      <td>1.079979</td>\n      <td>11</td>\n      <td>0</td>\n    </tr>\n    <tr>\n      <th>2</th>\n      <td>297.915070</td>\n      <td>101.162857</td>\n      <td>0.158724</td>\n      <td>99.049927</td>\n      <td>0.129762</td>\n      <td>99.284698</td>\n      <td>0.141153</td>\n      <td>98.815155</td>\n      <td>0.181443</td>\n      <td>100.458549</td>\n      <td>...</td>\n      <td>0.002423</td>\n      <td>186.654404</td>\n      <td>100.069527</td>\n      <td>0.004002</td>\n      <td>188.025848</td>\n      <td>99.040939</td>\n      <td>0.003124</td>\n      <td>0.941101</td>\n      <td>12</td>\n      <td>0</td>\n    </tr>\n    <tr>\n      <th>3</th>\n      <td>296.217621</td>\n      <td>100.349976</td>\n      <td>0.093805</td>\n      <td>98.588348</td>\n      <td>0.087348</td>\n      <td>98.840012</td>\n      <td>0.062892</td>\n      <td>98.840012</td>\n      <td>0.174230</td>\n      <td>99.846649</td>\n      <td>...</td>\n      <td>0.002402</td>\n      <td>186.641663</td>\n      <td>100.197792</td>\n      <td>0.004022</td>\n      <td>188.015778</td>\n      <td>99.167206</td>\n      <td>0.003137</td>\n      <td>0.942489</td>\n      <td>14</td>\n      <td>0</td>\n    </tr>\n    <tr>\n      <th>4</th>\n      <td>295.811157</td>\n      <td>100.567238</td>\n      <td>0.149141</td>\n      <td>98.798691</td>\n      <td>0.126491</td>\n      <td>98.798691</td>\n      <td>0.092573</td>\n      <td>99.051338</td>\n      <td>0.252890</td>\n      <td>99.556633</td>\n      <td>...</td>\n      <td>0.005710</td>\n      <td>187.608688</td>\n      <td>98.852150</td>\n      <td>0.003151</td>\n      <td>178.074585</td>\n      <td>106.683739</td>\n      <td>0.003489</td>\n      <td>0.999742</td>\n      <td>15</td>\n      <td>0</td>\n    </tr>\n  </tbody>\n</table>\n<p>5 rows × 464 columns</p>\n</div>"
     },
     "metadata": {},
     "output_type": "execute_result",
     "execution_count": 45
    }
   ],
   "source": [
    "n = 10\n",
    "categorical_subset = df[['image_id', 'person']]\n",
    "df.drop(columns=['image_id', 'person'], axis=1, inplace=True)\n",
    "expanded = []\n",
    "for row in df.iterrows():\n",
    "    bunch = df.loc[row[0]:row[0]+n].values\n",
    "    bunch_flat = bunch.flatten()\n",
    "    expanded.append(bunch_flat)\n",
    "columns = [i for i in range(len(expanded[0]))]\n",
    "expanded_df = pd.DataFrame(data=expanded, columns=columns)\n",
    "df = pd.concat([expanded_df, categorical_subset], axis=1)\n",
    "\n",
    "df.head(5)"
   ],
   "metadata": {
    "collapsed": false,
    "pycharm": {
     "name": "#%% \n",
     "is_executing": false
    }
   }
  },
  {
   "cell_type": "markdown",
   "source": [
    "## Log transformation\n",
    "\n",
    "Log transformation is a data transformation method in which it expands each variable x with a log(x).\n",
    "\n",
    "The log transformation reduces or removes the skewness of our original data \n",
    "and helps model detect non-linear dependencies between variables.\n",
    "\n",
    "This part will aggregate each existing row with row which have transformed."
   ],
   "metadata": {
    "collapsed": false
   }
  },
  {
   "cell_type": "code",
   "execution_count": 46,
   "outputs": [
    {
     "data": {
      "text/plain": "            0     log_0           1     log_1\n0  297.306702  5.694764   99.996819  4.605138\n1  298.104706  5.697445  100.636337  4.611513\n2  297.915070  5.696808  101.162857  4.616732\n3  296.217621  5.691094  100.349976  4.608664\n4  295.811157  5.689721  100.567238  4.610827",
      "text/html": "<div>\n<style scoped>\n    .dataframe tbody tr th:only-of-type {\n        vertical-align: middle;\n    }\n\n    .dataframe tbody tr th {\n        vertical-align: top;\n    }\n\n    .dataframe thead th {\n        text-align: right;\n    }\n</style>\n<table border=\"1\" class=\"dataframe\">\n  <thead>\n    <tr style=\"text-align: right;\">\n      <th></th>\n      <th>0</th>\n      <th>log_0</th>\n      <th>1</th>\n      <th>log_1</th>\n    </tr>\n  </thead>\n  <tbody>\n    <tr>\n      <th>0</th>\n      <td>297.306702</td>\n      <td>5.694764</td>\n      <td>99.996819</td>\n      <td>4.605138</td>\n    </tr>\n    <tr>\n      <th>1</th>\n      <td>298.104706</td>\n      <td>5.697445</td>\n      <td>100.636337</td>\n      <td>4.611513</td>\n    </tr>\n    <tr>\n      <th>2</th>\n      <td>297.915070</td>\n      <td>5.696808</td>\n      <td>101.162857</td>\n      <td>4.616732</td>\n    </tr>\n    <tr>\n      <th>3</th>\n      <td>296.217621</td>\n      <td>5.691094</td>\n      <td>100.349976</td>\n      <td>4.608664</td>\n    </tr>\n    <tr>\n      <th>4</th>\n      <td>295.811157</td>\n      <td>5.689721</td>\n      <td>100.567238</td>\n      <td>4.610827</td>\n    </tr>\n  </tbody>\n</table>\n</div>"
     },
     "metadata": {},
     "output_type": "execute_result",
     "execution_count": 46
    }
   ],
   "source": [
    "import warnings\n",
    "warnings.filterwarnings(\"ignore\", category=RuntimeWarning) \n",
    "# Obj: Creates columns with log of numeric columns\n",
    "categorical_subset = df[['image_id', 'person']].astype(int)\n",
    "df.drop(columns=['image_id', 'person'], axis=1, inplace=True)\n",
    "numeric_subset = df.select_dtypes('number')\n",
    "for col in numeric_subset.columns:\n",
    "    if col == 'image_id' or col == 'person':\n",
    "        continue\n",
    "    else:\n",
    "        numeric_subset['log_' + str(col)] = np.log(numeric_subset[col])\n",
    "df = pd.concat([numeric_subset, categorical_subset], axis=1)\n",
    "\n",
    "df[[0, 'log_0', 1, 'log_1']].head(5)\n"
   ],
   "metadata": {
    "collapsed": false,
    "pycharm": {
     "name": "#%%\n",
     "is_executing": false
    }
   }
  },
  {
   "cell_type": "markdown",
   "source": [
    "## Detect outliers\n",
    "\n",
    "This is the main part which returns list of outliers. Where (-1) is outliers.\n",
    "\n",
    "Isolation forest is an unsupervised learning algorithm for anomaly detection that works \n",
    "on the principle of isolating anomalies, instead of the most common techniques of profiling normal points.\n"
   ],
   "metadata": {
    "collapsed": false
   }
  },
  {
   "cell_type": "code",
   "execution_count": 47,
   "outputs": [
    {
     "name": "stdout",
     "text": [
      "180\n[ 1  1  1 ... -1 -1 -1]\n"
     ],
     "output_type": "stream"
    }
   ],
   "source": [
    "def outlier_detection_ISOFOREST(df):\n",
    "    df = df.fillna(0)\n",
    "    clf = IsolationForest()\n",
    "    outliers = clf.fit_predict(df)\n",
    "    print(list(outliers).count(-1))\n",
    "    return outliers\n",
    "\n",
    "outliers = outlier_detection_ISOFOREST(df)\n",
    "print(outliers)\n",
    "df['outliers'] = outliers"
   ],
   "metadata": {
    "collapsed": false,
    "pycharm": {
     "name": "#%%\n",
     "is_executing": false
    }
   }
  },
  {
   "cell_type": "markdown",
   "source": [
    "## Plotting\n",
    "\n",
    "Here we have to set frame_id as index."
   ],
   "metadata": {
    "collapsed": false
   }
  },
  {
   "cell_type": "code",
   "execution_count": 48,
   "outputs": [
    {
     "data": {
      "text/plain": "<Figure size 576x432 with 1 Axes>",
      "image/png": "[encoded data removed]"
     },
     "metadata": {
      "needs_background": "light"
     },
     "output_type": "display_data"
    },
    {
     "data": {
      "text/plain": "<Figure size 576x432 with 1 Axes>",
      "image/png": "[encoded data removed]"
     },
     "metadata": {
      "needs_background": "light"
     },
     "output_type": "display_data"
    },
    {
     "data": {
      "text/plain": "<Figure size 576x432 with 1 Axes>",
      "image/png": "[encoded data removed]"
     },
     "metadata": {
      "needs_background": "light"
     },
     "output_type": "display_data"
    },
    {
     "data": {
      "text/plain": "<Figure size 576x432 with 1 Axes>",
      "image/png": "[encoded data removed]"
     },
     "metadata": {
      "needs_background": "light"
     },
     "output_type": "display_data"
    },
    {
     "data": {
      "text/plain": "<Figure size 576x432 with 1 Axes>",
      "image/png": "[encoded data removed]"
     },
     "metadata": {
      "needs_background": "light"
     },
     "output_type": "display_data"
    }
   ],
   "source": [
    "def plotting_outliers(df, outliers):\n",
    "    mpl.rcParams['figure.figsize'] = (8, 6)\n",
    "    mpl.rcParams['axes.grid'] = False\n",
    "    # Smooth outliers (rolling window)\n",
    "    _ = df['outliers'].rolling(window=12).mean().plot()\n",
    "    \n",
    "    plt.show()\n",
    "df.index = df.image_id\n",
    "\n",
    "for person_id in df.person.unique():\n",
    "    person_df = df[df.person==person_id]\n",
    "    if len(person_df) < 50: continue\n",
    "    plt.title(f'preson: {person_id}')\n",
    "    plotting_outliers(person_df, outliers)"
   ],
   "metadata": {
    "collapsed": false,
    "pycharm": {
     "name": "#%%\n",
     "is_executing": false
    }
   }
  },
  {
   "cell_type": "markdown",
   "source": [
    "## Next steps\n",
    "\n",
    "Main idea for detecting outliers is compare normal behaviour with abnormal.\n",
    "\n",
    "So if we DON'T want to get outliers from normal behavior video,\n",
    "we have to aggregate two type of videos (normal, abnormal) as one.\n",
    "And then compare our reference video with new in which we wanna process.\n",
    "\n",
    "## Additional step\n",
    "\n",
    "Representation of the pose in Euclidean space and normalization of the angles between the limbs.\n",
    "\n"
   ],
   "metadata": {
    "collapsed": false
   }
  }
 ],
 "metadata": {
  "kernelspec": {
   "display_name": "Python 3",
   "language": "python",
   "name": "python3"
  },
  "language_info": {
   "codemirror_mode": {
    "name": "ipython",
    "version": 2
   },
   "file_extension": ".py",
   "mimetype": "text/x-python",
   "name": "python",
   "nbconvert_exporter": "python",
   "pygments_lexer": "ipython2",
   "version": "2.7.6"
  },
  "pycharm": {
   "stem_cell": {
    "cell_type": "raw",
    "source": [],
    "metadata": {
     "collapsed": false
    }
   }
  }
 },
 "nbformat": 4,
 "nbformat_minor": 0
}